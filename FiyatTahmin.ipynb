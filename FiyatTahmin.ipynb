{
  "nbformat": 4,
  "nbformat_minor": 0,
  "metadata": {
    "colab": {
      "provenance": [],
      "authorship_tag": "ABX9TyMdN6w13a8QCmR17tvq+c8a",
      "include_colab_link": true
    },
    "kernelspec": {
      "name": "python3",
      "display_name": "Python 3"
    },
    "language_info": {
      "name": "python"
    }
  },
  "cells": [
    {
      "cell_type": "markdown",
      "metadata": {
        "id": "view-in-github",
        "colab_type": "text"
      },
      "source": [
        "<a href=\"https://colab.research.google.com/github/iremaricii/Ev-Fiyat-Tahmin-Sistemi/blob/main/FiyatTahmin.ipynb\" target=\"_parent\"><img src=\"https://colab.research.google.com/assets/colab-badge.svg\" alt=\"Open In Colab\"/></a>"
      ]
    },
    {
      "cell_type": "code",
      "execution_count": null,
      "metadata": {
        "id": "uf9ljuUQc2bv"
      },
      "outputs": [],
      "source": [
        "from google.colab import files\n",
        "\n",
        "uploaded = files.upload()"
      ]
    },
    {
      "cell_type": "code",
      "source": [
        "!mkdir -p ~/.kaggle\n",
        "!cp kaggle.json ~/.kaggle/kaggle.json\n",
        "!chmod 600 ~/.kaggle/kaggle.json\n",
        "!pip install -q kaggle"
      ],
      "metadata": {
        "id": "txQyMyi2dV4Z"
      },
      "execution_count": 2,
      "outputs": []
    },
    {
      "cell_type": "code",
      "source": [
        "# Ames Housing\n",
        "!kaggle datasets download -d prevek18/ames-housing-dataset\n",
        "!unzip -o ames-housing-dataset.zip\n",
        "\n",
        "# King County\n",
        "!kaggle datasets download -d harlfoxem/housesalesprediction\n",
        "!unzip -o housesalesprediction.zip\n",
        "\n",
        "# SoCal görselli veri seti\n",
        "!kaggle datasets download -d ted8080/house-prices-and-images-socal\n",
        "!unzip -o house-prices-and-images-socal.zip"
      ],
      "metadata": {
        "id": "F5GQVy6TdaxD"
      },
      "execution_count": null,
      "outputs": []
    },
    {
      "cell_type": "code",
      "source": [
        "import pandas as pd\n",
        "import numpy as np\n",
        "\n",
        "# Ames Housing\n",
        "ames = pd.read_csv(\"ameshousing.csv\")\n",
        "ames_df = ames[[\"SalePrice\", \"Gr Liv Area\", \"Garage Cars\", \"TotRms AbvGrd\", \"Year Built\", \"Overall Qual\"]].dropna()\n",
        "\n",
        "# King County\n",
        "kc = pd.read_csv(\"kc_house_data.csv\")\n",
        "kc_df = kc[[\"price\", \"sqft_living\", \"bedrooms\", \"yr_built\", \"grade\"]].copy()\n",
        "kc_df.columns = [\"SalePrice\", \"Gr Liv Area\", \"TotRms AbvGrd\", \"Year Built\", \"Overall Qual\"]\n",
        "kc_df[\"Garage Cars\"] = np.random.randint(1, 4, size=kc_df.shape[0])\n",
        "kc_df = kc_df[[\"SalePrice\", \"Gr Liv Area\", \"Garage Cars\", \"TotRms AbvGrd\", \"Year Built\", \"Overall Qual\"]]\n",
        "\n",
        "# Birleştirme\n",
        "combined_df = pd.concat([ames_df, kc_df], ignore_index=True)"
      ],
      "metadata": {
        "id": "TQc-SsMqddzO"
      },
      "execution_count": 6,
      "outputs": []
    },
    {
      "cell_type": "code",
      "source": [
        "from sklearn.model_selection import train_test_split\n",
        "from sklearn.linear_model import LinearRegression\n",
        "from sklearn.metrics import mean_squared_error, r2_score\n",
        "\n",
        "X = combined_df.drop(\"SalePrice\", axis=1)\n",
        "y = combined_df[\"SalePrice\"]\n",
        "\n",
        "X_train, X_test, y_train, y_test = train_test_split(X, y, test_size=0.2, random_state=42)\n",
        "model = LinearRegression()\n",
        "model.fit(X_train, y_train)\n",
        "\n",
        "y_pred = model.predict(X_test)\n",
        "print(f\"R² Skoru: {r2_score(y_test, y_pred):.2f}\")\n",
        "print(f\"RMSE: {np.sqrt(mean_squared_error(y_test, y_pred)):.2f}\")"
      ],
      "metadata": {
        "id": "fiUfrvZFdgoI"
      },
      "execution_count": null,
      "outputs": []
    },
    {
      "cell_type": "code",
      "source": [
        "import matplotlib.pyplot as plt\n",
        "\n",
        "combined_df[\"Year Built\"] = combined_df[\"Year Built\"].astype(int)\n",
        "avg_by_year = combined_df.groupby(\"Year Built\")[\"SalePrice\"].mean()\n",
        "\n",
        "plt.figure(figsize=(12,6))\n",
        "plt.plot(avg_by_year.index, avg_by_year.values, marker=\"o\")\n",
        "plt.title(\"Yıllara Göre Ortalama Satış Fiyatı\")\n",
        "plt.xlabel(\"Yapım Yılı\")\n",
        "plt.ylabel(\"Fiyat (USD)\")\n",
        "plt.grid(True)\n",
        "plt.tight_layout()\n",
        "plt.show()"
      ],
      "metadata": {
        "id": "g3_pm2mLdi6C"
      },
      "execution_count": null,
      "outputs": []
    },
    {
      "cell_type": "code",
      "source": [
        "socal_df = pd.read_csv(\"socal2.csv\")\n",
        "X_vis = socal_df[[\"bed\", \"bath\", \"sqft\"]]\n",
        "y_vis = socal_df[\"price\"]\n",
        "\n",
        "from sklearn.linear_model import LinearRegression\n",
        "model_vis = LinearRegression()\n",
        "model_vis.fit(X_vis, y_vis)"
      ],
      "metadata": {
        "id": "JML-Y7VPdkVh"
      },
      "execution_count": null,
      "outputs": []
    },
    {
      "cell_type": "code",
      "source": [
        "!pip install gradio"
      ],
      "metadata": {
        "id": "TBXdzONzd7l9"
      },
      "execution_count": null,
      "outputs": []
    },
    {
      "cell_type": "code",
      "source": [
        "import gradio as gr\n",
        "\n",
        "def gorselli_tahmin(oda, banyo, alan):\n",
        "    veri = np.array([[oda, banyo, alan]])\n",
        "    tahmin = model_vis.predict(veri)[0]\n",
        "\n",
        "    socal_df[\"distance\"] = np.linalg.norm(X_vis.values - veri, axis=1)\n",
        "    en_yakin = socal_df.sort_values(\"distance\").iloc[0]\n",
        "\n",
        "    # Doğru görsel yolu!\n",
        "    image_path = f\"socal2/socal_pics/{int(en_yakin['image_id'])}.jpg\"\n",
        "\n",
        "    bilgi = f\"\"\"📌 {en_yakin['street']} ({en_yakin['citi']})\n",
        "🛏️ {int(en_yakin['bed'])} oda | 🛁 {int(en_yakin['bath'])} banyo\n",
        "📐 {int(en_yakin['sqft'])} ft² | 💰 {int(en_yakin['price'])} USD\"\"\"\n",
        "\n",
        "    return image_path, f\"Tahmini Fiyat: {int(tahmin)} USD\", bilgi\n",
        "\n",
        "gr.Interface(\n",
        "    fn=gorselli_tahmin,\n",
        "    inputs=[\n",
        "        gr.Slider(1, 6, value=3, step=1, label=\"Oda Sayısı\"),\n",
        "        gr.Slider(1, 4, value=2, step=1, label=\"Banyo Sayısı\"),\n",
        "        gr.Slider(500, 3000, value=1500, step=100, label=\"Yaşanabilir Alan (ft²)\")\n",
        "    ],\n",
        "    outputs=[\n",
        "        gr.Image(label=\"Benzer Ev Fotoğrafı\"),\n",
        "        gr.Textbox(label=\"Tahmini Fiyat\"),\n",
        "        gr.Textbox(label=\"Ev Bilgisi\")\n",
        "    ],\n",
        "    title=\"Ev Fiyat Tahmin Sistemi\",\n",
        "    description=\"Girdiğiniz değerlere göre tahmini fiyatı görün ve en benzer evin fotoğrafını inceleyin.\"\n",
        ").launch()\n"
      ],
      "metadata": {
        "id": "z0Em41NYdnU_"
      },
      "execution_count": null,
      "outputs": []
    }
  ]
}